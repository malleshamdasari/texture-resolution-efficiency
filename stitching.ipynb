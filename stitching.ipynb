{
 "cells": [
  {
   "cell_type": "code",
   "execution_count": 1,
   "id": "2b7ec2a2",
   "metadata": {},
   "outputs": [],
   "source": [
    "import cv2\n",
    "import numpy as np\n",
    "import matplotlib.pyplot as plt"
   ]
  },
  {
   "cell_type": "code",
   "execution_count": 18,
   "id": "be93cf64",
   "metadata": {},
   "outputs": [],
   "source": [
    "for i in range(1, 900):\n",
    "    img0 = cv2.imread('data/color_image_0_'+str(i)+'.png')\n",
    "    #img0 =  cv2.cvtColor(img0, cv2.COLOR_BGR2RGB)\n",
    "    img1 = cv2.imread('data/color_image_1_'+str(i)+'.png')\n",
    "    #img1 =  cv2.cvtColor(img1, cv2.COLOR_BGR2RGB)\n",
    "    img2 = cv2.imread('data/color_image_2_'+str(i)+'.png')\n",
    "    #img2 =  cv2.cvtColor(img2, cv2.COLOR_BGR2RGB)\n",
    "    img3 = cv2.imread('data/color_image_3_'+str(i)+'.png')\n",
    "    #img3 =  cv2.cvtColor(img3, cv2.COLOR_BGR2RGB)\n",
    "    img = np.concatenate((img0, img1), axis=1)\n",
    "    img = np.concatenate((img, img2), axis=1)\n",
    "    img = np.concatenate((img, img3), axis=1)\n",
    "    #img =  cv2.cvtColor(img, cv2.COLOR_BGR2RGB)\n",
    "    #plt.imshow(img)\n",
    "    cv2.imwrite('data/stitched_image_44_'+str(i)+'.png', img)\n",
    "    #break"
   ]
  },
  {
   "cell_type": "code",
   "execution_count": 14,
   "id": "dafa387e",
   "metadata": {},
   "outputs": [
    {
     "data": {
      "text/plain": [
       "(720, 5120, 3)"
      ]
     },
     "execution_count": 14,
     "metadata": {},
     "output_type": "execute_result"
    }
   ],
   "source": [
    "img.shape"
   ]
  },
  {
   "cell_type": "code",
   "execution_count": 21,
   "id": "8bc58910",
   "metadata": {},
   "outputs": [],
   "source": [
    "for i in range(1, 900):\n",
    "    img0 = cv2.imread('data/color_image_0_'+str(i)+'.png')\n",
    "    #img0 =  cv2.cvtColor(img0, cv2.COLOR_BGR2RGB)\n",
    "    img1 = cv2.imread('data/color_image_1_'+str(i)+'.png')\n",
    "    #img1 =  cv2.cvtColor(img1, cv2.COLOR_BGR2RGB)\n",
    "    img2 = cv2.imread('data/color_image_2_'+str(i)+'.png')\n",
    "    #img2 =  cv2.cvtColor(img2, cv2.COLOR_BGR2RGB)\n",
    "    img3 = cv2.imread('data/color_image_3_'+str(i)+'.png')\n",
    "    #img3 =  cv2.cvtColor(img3, cv2.COLOR_BGR2RGB)\n",
    "    img1 = np.concatenate((img0, img1), axis=1)\n",
    "    img2 = np.concatenate((img2, img3), axis=1)\n",
    "    img = np.concatenate((img1, img2), axis=0)\n",
    "    #img =  cv2.cvtColor(img, cv2.COLOR_BGR2RGB)\n",
    "    #plt.imshow(img)\n",
    "    cv2.imwrite('data/stitched_image_22_'+str(i)+'.png', img)\n",
    "    #break"
   ]
  },
  {
   "cell_type": "code",
   "execution_count": 20,
   "id": "d0b52baf",
   "metadata": {},
   "outputs": [
    {
     "data": {
      "text/plain": [
       "(1440, 2560, 3)"
      ]
     },
     "execution_count": 20,
     "metadata": {},
     "output_type": "execute_result"
    }
   ],
   "source": [
    "img.shape"
   ]
  },
  {
   "cell_type": "code",
   "execution_count": null,
   "id": "12a92010",
   "metadata": {},
   "outputs": [],
   "source": [
    "ffmpeg -i data/stitched_image_22_%d.png -t 30 -vf fps=30 -pix_fmt yuv420p camera_22.yuv"
   ]
  },
  {
   "cell_type": "code",
   "execution_count": null,
   "id": "8faa3c89",
   "metadata": {},
   "outputs": [],
   "source": [
    "ffmpeg -f rawvideo -pix_fmt yuv420p -s:v 1280x720 -i camera0.yuv -c libx264 -b:v 1M camera0.mp4"
   ]
  }
 ],
 "metadata": {
  "kernelspec": {
   "display_name": "Python 3 (ipykernel)",
   "language": "python",
   "name": "python3"
  },
  "language_info": {
   "codemirror_mode": {
    "name": "ipython",
    "version": 3
   },
   "file_extension": ".py",
   "mimetype": "text/x-python",
   "name": "python",
   "nbconvert_exporter": "python",
   "pygments_lexer": "ipython3",
   "version": "3.9.13"
  }
 },
 "nbformat": 4,
 "nbformat_minor": 5
}
