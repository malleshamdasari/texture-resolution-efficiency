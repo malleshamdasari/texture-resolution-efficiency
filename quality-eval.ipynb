{
 "cells": [
  {
   "cell_type": "code",
   "execution_count": 2,
   "id": "457e3c40",
   "metadata": {},
   "outputs": [],
   "source": [
    "import os\n",
    "import numpy as np"
   ]
  },
  {
   "cell_type": "code",
   "execution_count": 4,
   "id": "15cbacd0",
   "metadata": {},
   "outputs": [],
   "source": [
    "def encodeRawVideos(fs):\n",
    "    for f in fs:\n",
    "        os.system('ffmpeg -f rawvideo -pix_fmt yuv420p -s:v 352x288 -r 30 -i '+idir+f+' -b:v 2000k -minrate 2000k -maxrate 2000k -bufsize 400k -an '+odir+f[:-4]+'_compressed_1.mp4')\n",
    "        os.system('ffmpeg -f rawvideo -pix_fmt yuv420p -s:v 352x288 -r 30 -i '+idir+f+' -b:v 1000k -minrate 1000k -maxrate 1000k -bufsize 200k -an '+odir+f[:-4]+'_compressed_2.mp4')\n",
    "        os.system('ffmpeg -f rawvideo -pix_fmt yuv420p -s:v 352x288 -r 30 -i '+idir+f+' -b:v 500k -minrate 500k -maxrate 500k -bufsize 100k -an '+odir+f[:-4]+'_compressed_3.mp4')\n",
    "        os.system('ffmpeg -f rawvideo -pix_fmt yuv420p -s:v 352x288 -r 30 -i '+idir+f+' -b:v 200k -minrate 200k -maxrate 200k -bufsize 50k -an '+odir+f[:-4]+'_compressed_4.mp4')\n",
    "        os.system('ffmpeg -f rawvideo -pix_fmt yuv420p -s:v 352x288 -r 30 -i '+idir+f+' -b:v 100k -minrate 100k -maxrate 100k -bufsize 20k -an '+odir+f[:-4]+'_compressed_5.mp4')\n",
    "        os.system('ffmpeg -f rawvideo -pix_fmt yuv420p -s:v 352x288 -r 30 -i '+idir+f+' -b:v 50k -minrate 50k -maxrate 50k -bufsize 10k -an '+odir+f[:-4]+'_compressed_6.mp4')\n",
    "\n",
    "def vqa(fs):\n",
    "    for f in fs:\n",
    "        os.system('ffmpeg -f rawvideo -pix_fmt yuv420p -s:v 352x288 -r 30 -i '+idir+f+' -i '+odir+f[:-4]+'_compressed_1.mp4 -lavfi \\\"ssim=log/ssim_'+f[:-4]+'_1.log;[0:v][1:v]psnr=log/psnr_'+f[:-4]+'_1.log\\\" -f null -')\n",
    "        os.system('ffmpeg -f rawvideo -pix_fmt yuv420p -s:v 352x288 -r 30 -i '+idir+f+' -i '+odir+f[:-4]+'_compressed_2.mp4 -lavfi \\\"ssim=log/ssim_'+f[:-4]+'_2.log;[0:v][1:v]psnr=log/psnr_'+f[:-4]+'_2.log\\\" -f null -')\n",
    "        os.system('ffmpeg -f rawvideo -pix_fmt yuv420p -s:v 352x288 -r 30 -i '+idir+f+' -i '+odir+f[:-4]+'_compressed_3.mp4 -lavfi \\\"ssim=log/ssim_'+f[:-4]+'_3.log;[0:v][1:v]psnr=log/psnr_'+f[:-4]+'_3.log\\\" -f null -')\n",
    "        os.system('ffmpeg -f rawvideo -pix_fmt yuv420p -s:v 352x288 -r 30 -i '+idir+f+' -i '+odir+f[:-4]+'_compressed_4.mp4 -lavfi \\\"ssim=log/ssim_'+f[:-4]+'_4.log;[0:v][1:v]psnr=log/psnr_'+f[:-4]+'_4.log\\\" -f null -')\n",
    "        os.system('ffmpeg -f rawvideo -pix_fmt yuv420p -s:v 352x288 -r 30 -i '+idir+f+' -i '+odir+f[:-4]+'_compressed_5.mp4 -lavfi \\\"ssim=log/ssim_'+f[:-4]+'_5.log;[0:v][1:v]psnr=log/psnr_'+f[:-4]+'_5.log\\\" -f null -')\n",
    "        os.system('ffmpeg -f rawvideo -pix_fmt yuv420p -s:v 352x288 -r 30 -i '+idir+f+' -i '+odir+f[:-4]+'_compressed_6.mp4 -lavfi \\\"ssim=log/ssim_'+f[:-4]+'_6.log;[0:v][1:v]psnr=log/psnr_'+f[:-4]+'_6.log\\\" -f null -')\n",
    "\n",
    "def computeAverage(fs, b, k):\n",
    "    psnr = []\n",
    "    ssim = []\n",
    "    for f in fs:\n",
    "        lines = open('log/psnr_'+f[:-4]+'_'+str(b)+'.log', 'r')\n",
    "        for line in lines:\n",
    "            q = line.strip().split(' ')[5].split(':')[1]\n",
    "            psnr.append(float(q))\n",
    "        lines = open('log/ssim_'+f[:-4]+'_'+str(b)+'.log', 'r')\n",
    "        for line in lines:\n",
    "            q = line.strip().split(' ')[4].split(':')[1]\n",
    "            ssim.append(float(q))\n",
    "    #print 'bpp: '+str(k*1000/352/288.0), 'PSNR: '+str(np.mean(psnr)), 'MSSSIM: '+str(np.mean(ssim))"
   ]
  },
  {
   "cell_type": "code",
   "execution_count": 5,
   "id": "24bd300f",
   "metadata": {},
   "outputs": [
    {
     "name": "stderr",
     "output_type": "stream",
     "text": [
      "ffmpeg version 5.0.1 Copyright (c) 2000-2022 the FFmpeg developers\n",
      "  built with Apple clang version 13.1.6 (clang-1316.0.21.2.5)\n",
      "  configuration: --prefix=/usr/local/Cellar/ffmpeg/5.0.1_3 --enable-shared --enable-pthreads --enable-version3 --cc=clang --host-cflags= --host-ldflags= --enable-ffplay --enable-gnutls --enable-gpl --enable-libaom --enable-libbluray --enable-libdav1d --enable-libmp3lame --enable-libopus --enable-librav1e --enable-librist --enable-librubberband --enable-libsnappy --enable-libsrt --enable-libtesseract --enable-libtheora --enable-libvidstab --enable-libvmaf --enable-libvorbis --enable-libvpx --enable-libwebp --enable-libx264 --enable-libx265 --enable-libxml2 --enable-libxvid --enable-lzma --enable-libfontconfig --enable-libfreetype --enable-frei0r --enable-libass --enable-libopencore-amrnb --enable-libopencore-amrwb --enable-libopenjpeg --enable-libspeex --enable-libsoxr --enable-libzmq --enable-libzimg --disable-libjack --disable-indev=jack --enable-videotoolbox\n",
      "  libavutil      57. 17.100 / 57. 17.100\n",
      "  libavcodec     59. 18.100 / 59. 18.100\n",
      "  libavformat    59. 16.100 / 59. 16.100\n",
      "  libavdevice    59.  4.100 / 59.  4.100\n",
      "  libavfilter     8. 24.100 /  8. 24.100\n",
      "  libswscale      6.  4.100 /  6.  4.100\n",
      "  libswresample   4.  3.100 /  4.  3.100\n",
      "  libpostproc    56.  3.100 / 56.  3.100\n",
      "[rawvideo @ 0x7fd559704e00] Estimating duration from bitrate, this may be inaccurate\n",
      "Input #0, rawvideo, from 'camera0.yuv':\n",
      "  Duration: 00:00:30.00, start: 0.000000, bitrate: 331776 kb/s\n",
      "  Stream #0:0: Video: rawvideo (I420 / 0x30323449), yuv420p, 1280x720, 331776 kb/s, 30 tbr, 30 tbn\n",
      "Input #1, mov,mp4,m4a,3gp,3g2,mj2, from 'camera0.mp4':\n",
      "  Metadata:\n",
      "    major_brand     : isom\n",
      "    minor_version   : 512\n",
      "    compatible_brands: isomiso2avc1mp41\n",
      "    encoder         : Lavf59.16.100\n",
      "  Duration: 00:00:36.00, start: 0.000000, bitrate: 997 kb/s\n",
      "  Stream #1:0[0x1](und): Video: h264 (High) (avc1 / 0x31637661), yuv420p(progressive), 1280x720, 994 kb/s, 25 fps, 25 tbr, 12800 tbn (default)\n",
      "    Metadata:\n",
      "      handler_name    : VideoHandler\n",
      "      vendor_id       : [0][0][0][0]\n",
      "Stream mapping:\n",
      "  Stream #0:0 (rawvideo) -> ssim\n",
      "  Stream #0:0 (rawvideo) -> psnr\n",
      "  Stream #1:0 (h264) -> ssim\n",
      "  Stream #1:0 (h264) -> psnr\n",
      "  ssim:default -> Stream #0:0 (wrapped_avframe)\n",
      "  psnr:default -> Stream #0:1 (wrapped_avframe)\n",
      "Press [q] to stop, [?] for help\n",
      "[Parsed_ssim_0 @ 0x7fd549705040] not matching timebases found between first input: 1/30 and second input 1/12800, results may be incorrect!\n",
      "[Parsed_psnr_1 @ 0x7fd549705fc0] not matching timebases found between first input: 1/30 and second input 1/12800, results may be incorrect!\n",
      "Output #0, null, to 'pipe:':\n",
      "  Metadata:\n",
      "    encoder         : Lavf59.16.100\n",
      "  Stream #0:0: Video: wrapped_avframe, yuv420p(progressive), 1280x720, q=2-31, 200 kb/s, 30 fps, 30 tbn (default)\n",
      "    Metadata:\n",
      "      encoder         : Lavc59.18.100 wrapped_avframe\n",
      "  Stream #0:1: Video: wrapped_avframe, yuv420p(progressive), 1280x720, q=2-31, 200 kb/s, 30 fps, 30 tbn\n",
      "    Metadata:\n",
      "      encoder         : Lavc59.18.100 wrapped_avframe\n",
      "frame= 1050 fps=0.0 q=-0.0 Lq=-0.0 size=N/A time=00:00:36.00 bitrate=N/A speed=70.9x    \n",
      "video:919kB audio:0kB subtitle:0kB other streams:0kB global headers:0kB muxing overhead: unknown\n",
      "[Parsed_ssim_0 @ 0x7fd549705040] SSIM Y:0.860847 (8.565080) U:0.973753 (15.809200) V:0.973433 (15.756573) All:0.898429 (9.932308)\n",
      "[Parsed_psnr_1 @ 0x7fd549705fc0] PSNR y:20.527541 u:38.631530 v:35.817872 average:22.239813 min:18.939194 max:42.965001\n"
     ]
    },
    {
     "data": {
      "text/plain": [
       "0"
      ]
     },
     "execution_count": 5,
     "metadata": {},
     "output_type": "execute_result"
    }
   ],
   "source": [
    "os.system('ffmpeg -f rawvideo -pix_fmt yuv420p -s:v 1280x720 -r 30 -i camera0.yuv -i camera0.mp4 -lavfi \\\"ssim=log/ssim_camera0.log;[0:v][1:v]psnr=log/psnr_camera0.log\\\" -f null -')"
   ]
  },
  {
   "cell_type": "code",
   "execution_count": 6,
   "id": "a994eb6a",
   "metadata": {},
   "outputs": [
    {
     "name": "stderr",
     "output_type": "stream",
     "text": [
      "ffmpeg version 5.0.1 Copyright (c) 2000-2022 the FFmpeg developers\n",
      "  built with Apple clang version 13.1.6 (clang-1316.0.21.2.5)\n",
      "  configuration: --prefix=/usr/local/Cellar/ffmpeg/5.0.1_3 --enable-shared --enable-pthreads --enable-version3 --cc=clang --host-cflags= --host-ldflags= --enable-ffplay --enable-gnutls --enable-gpl --enable-libaom --enable-libbluray --enable-libdav1d --enable-libmp3lame --enable-libopus --enable-librav1e --enable-librist --enable-librubberband --enable-libsnappy --enable-libsrt --enable-libtesseract --enable-libtheora --enable-libvidstab --enable-libvmaf --enable-libvorbis --enable-libvpx --enable-libwebp --enable-libx264 --enable-libx265 --enable-libxml2 --enable-libxvid --enable-lzma --enable-libfontconfig --enable-libfreetype --enable-frei0r --enable-libass --enable-libopencore-amrnb --enable-libopencore-amrwb --enable-libopenjpeg --enable-libspeex --enable-libsoxr --enable-libzmq --enable-libzimg --disable-libjack --disable-indev=jack --enable-videotoolbox\n",
      "  libavutil      57. 17.100 / 57. 17.100\n",
      "  libavcodec     59. 18.100 / 59. 18.100\n",
      "  libavformat    59. 16.100 / 59. 16.100\n",
      "  libavdevice    59.  4.100 / 59.  4.100\n",
      "  libavfilter     8. 24.100 /  8. 24.100\n",
      "  libswscale      6.  4.100 /  6.  4.100\n",
      "  libswresample   4.  3.100 /  4.  3.100\n",
      "  libpostproc    56.  3.100 / 56.  3.100\n",
      "[rawvideo @ 0x7fe566705a00] Estimating duration from bitrate, this may be inaccurate\n",
      "Input #0, rawvideo, from 'camera1.yuv':\n",
      "  Duration: 00:00:30.00, start: 0.000000, bitrate: 331776 kb/s\n",
      "  Stream #0:0: Video: rawvideo (I420 / 0x30323449), yuv420p, 1280x720, 331776 kb/s, 30 tbr, 30 tbn\n",
      "Input #1, mov,mp4,m4a,3gp,3g2,mj2, from 'camera1.mp4':\n",
      "  Metadata:\n",
      "    major_brand     : isom\n",
      "    minor_version   : 512\n",
      "    compatible_brands: isomiso2avc1mp41\n",
      "    encoder         : Lavf59.16.100\n",
      "  Duration: 00:00:36.00, start: 0.000000, bitrate: 998 kb/s\n",
      "  Stream #1:0[0x1](und): Video: h264 (High) (avc1 / 0x31637661), yuv420p(progressive), 1280x720, 995 kb/s, 25 fps, 25 tbr, 12800 tbn (default)\n",
      "    Metadata:\n",
      "      handler_name    : VideoHandler\n",
      "      vendor_id       : [0][0][0][0]\n",
      "Stream mapping:\n",
      "  Stream #0:0 (rawvideo) -> ssim\n",
      "  Stream #0:0 (rawvideo) -> psnr\n",
      "  Stream #1:0 (h264) -> ssim\n",
      "  Stream #1:0 (h264) -> psnr\n",
      "  ssim:default -> Stream #0:0 (wrapped_avframe)\n",
      "  psnr:default -> Stream #0:1 (wrapped_avframe)\n",
      "Press [q] to stop, [?] for help\n",
      "[Parsed_ssim_0 @ 0x7fe56707ee80] not matching timebases found between first input: 1/30 and second input 1/12800, results may be incorrect!\n",
      "[Parsed_psnr_1 @ 0x7fe56707f100] not matching timebases found between first input: 1/30 and second input 1/12800, results may be incorrect!\n",
      "Output #0, null, to 'pipe:':\n",
      "  Metadata:\n",
      "    encoder         : Lavf59.16.100\n",
      "  Stream #0:0: Video: wrapped_avframe, yuv420p(progressive), 1280x720, q=2-31, 200 kb/s, 30 fps, 30 tbn (default)\n",
      "    Metadata:\n",
      "      encoder         : Lavc59.18.100 wrapped_avframe\n",
      "  Stream #0:1: Video: wrapped_avframe, yuv420p(progressive), 1280x720, q=2-31, 200 kb/s, 30 fps, 30 tbn\n",
      "    Metadata:\n",
      "      encoder         : Lavc59.18.100 wrapped_avframe\n",
      "frame= 1050 fps=0.0 q=-0.0 Lq=-0.0 size=N/A time=00:00:36.00 bitrate=N/A speed=71.4x    \n",
      "video:919kB audio:0kB subtitle:0kB other streams:0kB global headers:0kB muxing overhead: unknown\n",
      "[Parsed_ssim_0 @ 0x7fe56707ee80] SSIM Y:0.885684 (9.418946) U:0.967696 (14.907456) V:0.970585 (15.314253) All:0.913503 (10.629993)\n",
      "[Parsed_psnr_1 @ 0x7fe56707f100] PSNR y:22.145212 u:37.065268 v:35.621393 average:23.823185 min:18.178710 max:42.355368\n"
     ]
    },
    {
     "data": {
      "text/plain": [
       "0"
      ]
     },
     "execution_count": 6,
     "metadata": {},
     "output_type": "execute_result"
    }
   ],
   "source": [
    "os.system('ffmpeg -f rawvideo -pix_fmt yuv420p -s:v 1280x720 -r 30 -i camera1.yuv -i camera1.mp4 -lavfi \\\"ssim=log/ssim_camera1.log;[0:v][1:v]psnr=log/psnr_camera1.log\\\" -f null -')"
   ]
  },
  {
   "cell_type": "code",
   "execution_count": 7,
   "id": "dce052c1",
   "metadata": {},
   "outputs": [
    {
     "name": "stderr",
     "output_type": "stream",
     "text": [
      "ffmpeg version 5.0.1 Copyright (c) 2000-2022 the FFmpeg developers\n",
      "  built with Apple clang version 13.1.6 (clang-1316.0.21.2.5)\n",
      "  configuration: --prefix=/usr/local/Cellar/ffmpeg/5.0.1_3 --enable-shared --enable-pthreads --enable-version3 --cc=clang --host-cflags= --host-ldflags= --enable-ffplay --enable-gnutls --enable-gpl --enable-libaom --enable-libbluray --enable-libdav1d --enable-libmp3lame --enable-libopus --enable-librav1e --enable-librist --enable-librubberband --enable-libsnappy --enable-libsrt --enable-libtesseract --enable-libtheora --enable-libvidstab --enable-libvmaf --enable-libvorbis --enable-libvpx --enable-libwebp --enable-libx264 --enable-libx265 --enable-libxml2 --enable-libxvid --enable-lzma --enable-libfontconfig --enable-libfreetype --enable-frei0r --enable-libass --enable-libopencore-amrnb --enable-libopencore-amrwb --enable-libopenjpeg --enable-libspeex --enable-libsoxr --enable-libzmq --enable-libzimg --disable-libjack --disable-indev=jack --enable-videotoolbox\n",
      "  libavutil      57. 17.100 / 57. 17.100\n",
      "  libavcodec     59. 18.100 / 59. 18.100\n",
      "  libavformat    59. 16.100 / 59. 16.100\n",
      "  libavdevice    59.  4.100 / 59.  4.100\n",
      "  libavfilter     8. 24.100 /  8. 24.100\n",
      "  libswscale      6.  4.100 /  6.  4.100\n",
      "  libswresample   4.  3.100 /  4.  3.100\n",
      "  libpostproc    56.  3.100 / 56.  3.100\n",
      "[rawvideo @ 0x7f865d804400] Estimating duration from bitrate, this may be inaccurate\n",
      "Input #0, rawvideo, from 'camera2.yuv':\n",
      "  Duration: 00:00:30.00, start: 0.000000, bitrate: 331776 kb/s\n",
      "  Stream #0:0: Video: rawvideo (I420 / 0x30323449), yuv420p, 1280x720, 331776 kb/s, 30 tbr, 30 tbn\n",
      "Input #1, mov,mp4,m4a,3gp,3g2,mj2, from 'camera2.mp4':\n",
      "  Metadata:\n",
      "    major_brand     : isom\n",
      "    minor_version   : 512\n",
      "    compatible_brands: isomiso2avc1mp41\n",
      "    encoder         : Lavf59.16.100\n",
      "  Duration: 00:00:36.00, start: 0.000000, bitrate: 1005 kb/s\n",
      "  Stream #1:0[0x1](und): Video: h264 (High) (avc1 / 0x31637661), yuv420p(progressive), 1280x720, 1003 kb/s, 25 fps, 25 tbr, 12800 tbn (default)\n",
      "    Metadata:\n",
      "      handler_name    : VideoHandler\n",
      "      vendor_id       : [0][0][0][0]\n",
      "Stream mapping:\n",
      "  Stream #0:0 (rawvideo) -> ssim\n",
      "  Stream #0:0 (rawvideo) -> psnr\n",
      "  Stream #1:0 (h264) -> ssim\n",
      "  Stream #1:0 (h264) -> psnr\n",
      "  ssim:default -> Stream #0:0 (wrapped_avframe)\n",
      "  psnr:default -> Stream #0:1 (wrapped_avframe)\n",
      "Press [q] to stop, [?] for help\n",
      "[Parsed_ssim_0 @ 0x7f862c707a80] not matching timebases found between first input: 1/30 and second input 1/12800, results may be incorrect!\n",
      "[Parsed_psnr_1 @ 0x7f862c708000] not matching timebases found between first input: 1/30 and second input 1/12800, results may be incorrect!\n",
      "Output #0, null, to 'pipe:':\n",
      "  Metadata:\n",
      "    encoder         : Lavf59.16.100\n",
      "  Stream #0:0: Video: wrapped_avframe, yuv420p(progressive), 1280x720, q=2-31, 200 kb/s, 30 fps, 30 tbn (default)\n",
      "    Metadata:\n",
      "      encoder         : Lavc59.18.100 wrapped_avframe\n",
      "  Stream #0:1: Video: wrapped_avframe, yuv420p(progressive), 1280x720, q=2-31, 200 kb/s, 30 fps, 30 tbn\n",
      "    Metadata:\n",
      "      encoder         : Lavc59.18.100 wrapped_avframe\n",
      "frame= 1050 fps=0.0 q=-0.0 Lq=-0.0 size=N/A time=00:00:36.00 bitrate=N/A speed=69.7x    \n",
      "video:919kB audio:0kB subtitle:0kB other streams:0kB global headers:0kB muxing overhead: unknown\n",
      "[Parsed_ssim_0 @ 0x7f862c707a80] SSIM Y:0.887522 (9.489311) U:0.966624 (14.765624) V:0.959361 (13.910604) All:0.912679 (10.588794)\n",
      "[Parsed_psnr_1 @ 0x7f862c708000] PSNR y:18.342174 u:36.463625 v:33.406113 average:20.052813 min:16.370416 max:42.150716\n"
     ]
    },
    {
     "data": {
      "text/plain": [
       "0"
      ]
     },
     "execution_count": 7,
     "metadata": {},
     "output_type": "execute_result"
    }
   ],
   "source": [
    "os.system('ffmpeg -f rawvideo -pix_fmt yuv420p -s:v 1280x720 -r 30 -i camera2.yuv -i camera2.mp4 -lavfi \\\"ssim=log/ssim_camera2.log;[0:v][1:v]psnr=log/psnr_camera2.log\\\" -f null -')"
   ]
  },
  {
   "cell_type": "code",
   "execution_count": 8,
   "id": "34dcebd9",
   "metadata": {},
   "outputs": [
    {
     "name": "stderr",
     "output_type": "stream",
     "text": [
      "ffmpeg version 5.0.1 Copyright (c) 2000-2022 the FFmpeg developers\n",
      "  built with Apple clang version 13.1.6 (clang-1316.0.21.2.5)\n",
      "  configuration: --prefix=/usr/local/Cellar/ffmpeg/5.0.1_3 --enable-shared --enable-pthreads --enable-version3 --cc=clang --host-cflags= --host-ldflags= --enable-ffplay --enable-gnutls --enable-gpl --enable-libaom --enable-libbluray --enable-libdav1d --enable-libmp3lame --enable-libopus --enable-librav1e --enable-librist --enable-librubberband --enable-libsnappy --enable-libsrt --enable-libtesseract --enable-libtheora --enable-libvidstab --enable-libvmaf --enable-libvorbis --enable-libvpx --enable-libwebp --enable-libx264 --enable-libx265 --enable-libxml2 --enable-libxvid --enable-lzma --enable-libfontconfig --enable-libfreetype --enable-frei0r --enable-libass --enable-libopencore-amrnb --enable-libopencore-amrwb --enable-libopenjpeg --enable-libspeex --enable-libsoxr --enable-libzmq --enable-libzimg --disable-libjack --disable-indev=jack --enable-videotoolbox\n",
      "  libavutil      57. 17.100 / 57. 17.100\n",
      "  libavcodec     59. 18.100 / 59. 18.100\n",
      "  libavformat    59. 16.100 / 59. 16.100\n",
      "  libavdevice    59.  4.100 / 59.  4.100\n",
      "  libavfilter     8. 24.100 /  8. 24.100\n",
      "  libswscale      6.  4.100 /  6.  4.100\n",
      "  libswresample   4.  3.100 /  4.  3.100\n",
      "  libpostproc    56.  3.100 / 56.  3.100\n",
      "[rawvideo @ 0x7f7b26804400] Estimating duration from bitrate, this may be inaccurate\n",
      "Input #0, rawvideo, from 'camera3.yuv':\n",
      "  Duration: 00:00:30.00, start: 0.000000, bitrate: 331776 kb/s\n",
      "  Stream #0:0: Video: rawvideo (I420 / 0x30323449), yuv420p, 1280x720, 331776 kb/s, 30 tbr, 30 tbn\n",
      "Input #1, mov,mp4,m4a,3gp,3g2,mj2, from 'camera3.mp4':\n",
      "  Metadata:\n",
      "    major_brand     : isom\n",
      "    minor_version   : 512\n",
      "    compatible_brands: isomiso2avc1mp41\n",
      "    encoder         : Lavf59.16.100\n",
      "  Duration: 00:00:36.00, start: 0.000000, bitrate: 994 kb/s\n",
      "  Stream #1:0[0x1](und): Video: h264 (High) (avc1 / 0x31637661), yuv420p(progressive), 1280x720, 991 kb/s, 25 fps, 25 tbr, 12800 tbn (default)\n",
      "    Metadata:\n",
      "      handler_name    : VideoHandler\n",
      "      vendor_id       : [0][0][0][0]\n",
      "Stream mapping:\n",
      "  Stream #0:0 (rawvideo) -> ssim\n",
      "  Stream #0:0 (rawvideo) -> psnr\n",
      "  Stream #1:0 (h264) -> ssim\n",
      "  Stream #1:0 (h264) -> psnr\n",
      "  ssim:default -> Stream #0:0 (wrapped_avframe)\n",
      "  psnr:default -> Stream #0:1 (wrapped_avframe)\n",
      "Press [q] to stop, [?] for help\n",
      "[Parsed_ssim_0 @ 0x7f7b2687b780] not matching timebases found between first input: 1/30 and second input 1/12800, results may be incorrect!\n",
      "[Parsed_psnr_1 @ 0x7f7b26880e40] not matching timebases found between first input: 1/30 and second input 1/12800, results may be incorrect!\n",
      "Output #0, null, to 'pipe:':\n",
      "  Metadata:\n",
      "    encoder         : Lavf59.16.100\n",
      "  Stream #0:0: Video: wrapped_avframe, yuv420p(progressive), 1280x720, q=2-31, 200 kb/s, 30 fps, 30 tbn (default)\n",
      "    Metadata:\n",
      "      encoder         : Lavc59.18.100 wrapped_avframe\n",
      "  Stream #0:1: Video: wrapped_avframe, yuv420p(progressive), 1280x720, q=2-31, 200 kb/s, 30 fps, 30 tbn\n",
      "    Metadata:\n",
      "      encoder         : Lavc59.18.100 wrapped_avframe\n",
      "frame= 1050 fps=0.0 q=-0.0 Lq=-0.0 size=N/A time=00:00:36.00 bitrate=N/A speed=69.1x    \n",
      "video:919kB audio:0kB subtitle:0kB other streams:0kB global headers:0kB muxing overhead: unknown\n",
      "[Parsed_ssim_0 @ 0x7f7b2687b780] SSIM Y:0.930540 (11.582626) U:0.974681 (15.965467) V:0.972775 (15.650361) All:0.944936 (12.591298)\n",
      "[Parsed_psnr_1 @ 0x7f7b26880e40] PSNR y:23.923379 u:40.241008 v:36.337246 average:25.597536 min:17.017767 max:41.824091\n"
     ]
    },
    {
     "data": {
      "text/plain": [
       "0"
      ]
     },
     "execution_count": 8,
     "metadata": {},
     "output_type": "execute_result"
    }
   ],
   "source": [
    "os.system('ffmpeg -f rawvideo -pix_fmt yuv420p -s:v 1280x720 -r 30 -i camera3.yuv -i camera3.mp4 -lavfi \\\"ssim=log/ssim_camera3.log;[0:v][1:v]psnr=log/psnr_camera3.log\\\" -f null -')"
   ]
  },
  {
   "cell_type": "code",
   "execution_count": 9,
   "id": "2da4085d",
   "metadata": {},
   "outputs": [
    {
     "name": "stderr",
     "output_type": "stream",
     "text": [
      "ffmpeg version 5.0.1 Copyright (c) 2000-2022 the FFmpeg developers\n",
      "  built with Apple clang version 13.1.6 (clang-1316.0.21.2.5)\n",
      "  configuration: --prefix=/usr/local/Cellar/ffmpeg/5.0.1_3 --enable-shared --enable-pthreads --enable-version3 --cc=clang --host-cflags= --host-ldflags= --enable-ffplay --enable-gnutls --enable-gpl --enable-libaom --enable-libbluray --enable-libdav1d --enable-libmp3lame --enable-libopus --enable-librav1e --enable-librist --enable-librubberband --enable-libsnappy --enable-libsrt --enable-libtesseract --enable-libtheora --enable-libvidstab --enable-libvmaf --enable-libvorbis --enable-libvpx --enable-libwebp --enable-libx264 --enable-libx265 --enable-libxml2 --enable-libxvid --enable-lzma --enable-libfontconfig --enable-libfreetype --enable-frei0r --enable-libass --enable-libopencore-amrnb --enable-libopencore-amrwb --enable-libopenjpeg --enable-libspeex --enable-libsoxr --enable-libzmq --enable-libzimg --disable-libjack --disable-indev=jack --enable-videotoolbox\n",
      "  libavutil      57. 17.100 / 57. 17.100\n",
      "  libavcodec     59. 18.100 / 59. 18.100\n",
      "  libavformat    59. 16.100 / 59. 16.100\n",
      "  libavdevice    59.  4.100 / 59.  4.100\n",
      "  libavfilter     8. 24.100 /  8. 24.100\n",
      "  libswscale      6.  4.100 /  6.  4.100\n",
      "  libswresample   4.  3.100 /  4.  3.100\n",
      "  libpostproc    56.  3.100 / 56.  3.100\n",
      "[rawvideo @ 0x7f9fb3f05a00] Estimating duration from bitrate, this may be inaccurate\n",
      "Input #0, rawvideo, from 'camera_22.yuv':\n",
      "  Duration: 00:00:30.00, start: 0.000000, bitrate: 1327104 kb/s\n",
      "  Stream #0:0: Video: rawvideo (I420 / 0x30323449), yuv420p, 2560x1440, 1327104 kb/s, 30 tbr, 30 tbn\n",
      "Input #1, mov,mp4,m4a,3gp,3g2,mj2, from 'camera22.mp4':\n",
      "  Metadata:\n",
      "    major_brand     : isom\n",
      "    minor_version   : 512\n",
      "    compatible_brands: isomiso2avc1mp41\n",
      "    encoder         : Lavf59.16.100\n",
      "  Duration: 00:00:36.00, start: 0.000000, bitrate: 4011 kb/s\n",
      "  Stream #1:0[0x1](und): Video: h264 (High) (avc1 / 0x31637661), yuv420p(progressive), 2560x1440, 4008 kb/s, 25 fps, 25 tbr, 12800 tbn (default)\n",
      "    Metadata:\n",
      "      handler_name    : VideoHandler\n",
      "      vendor_id       : [0][0][0][0]\n",
      "Stream mapping:\n",
      "  Stream #0:0 (rawvideo) -> ssim\n",
      "  Stream #0:0 (rawvideo) -> psnr\n",
      "  Stream #1:0 (h264) -> ssim\n",
      "  Stream #1:0 (h264) -> psnr\n",
      "  ssim:default -> Stream #0:0 (wrapped_avframe)\n",
      "  psnr:default -> Stream #0:1 (wrapped_avframe)\n",
      "Press [q] to stop, [?] for help\n",
      "[Parsed_ssim_0 @ 0x7f9fb3f7c980] not matching timebases found between first input: 1/30 and second input 1/12800, results may be incorrect!\n",
      "[Parsed_psnr_1 @ 0x7f9fb3f80800] not matching timebases found between first input: 1/30 and second input 1/12800, results may be incorrect!\n",
      "Output #0, null, to 'pipe:':\n",
      "  Metadata:\n",
      "    encoder         : Lavf59.16.100\n",
      "  Stream #0:0: Video: wrapped_avframe, yuv420p(progressive), 2560x1440, q=2-31, 200 kb/s, 30 fps, 30 tbn (default)\n",
      "    Metadata:\n",
      "      encoder         : Lavc59.18.100 wrapped_avframe\n",
      "  Stream #0:1: Video: wrapped_avframe, yuv420p(progressive), 2560x1440, q=2-31, 200 kb/s, 30 fps, 30 tbn\n",
      "    Metadata:\n",
      "      encoder         : Lavc59.18.100 wrapped_avframe\n",
      "frame= 1050 fps=636 q=-0.0 Lq=-0.0 size=N/A time=00:00:36.00 bitrate=N/A speed=21.8x    \n",
      "video:919kB audio:0kB subtitle:0kB other streams:0kB global headers:0kB muxing overhead: unknown\n",
      "[Parsed_ssim_0 @ 0x7f9fb3f7c980] SSIM Y:0.891957 (9.664014) U:0.971373 (15.432304) V:0.969647 (15.177930) All:0.918141 (10.869336)\n",
      "[Parsed_psnr_1 @ 0x7f9fb3f80800] PSNR y:20.717424 u:38.134291 v:35.125425 average:22.419706 min:19.401328 max:45.015598\n"
     ]
    },
    {
     "data": {
      "text/plain": [
       "0"
      ]
     },
     "execution_count": 9,
     "metadata": {},
     "output_type": "execute_result"
    }
   ],
   "source": [
    "os.system('ffmpeg -f rawvideo -pix_fmt yuv420p -s:v 2560x1440 -r 30 -i camera_22.yuv -i camera22.mp4 -lavfi \\\"ssim=log/ssim_camera22.log;[0:v][1:v]psnr=log/psnr_camera22.log\\\" -f null -')"
   ]
  },
  {
   "cell_type": "code",
   "execution_count": 11,
   "id": "6871dd91",
   "metadata": {},
   "outputs": [
    {
     "name": "stderr",
     "output_type": "stream",
     "text": [
      "ffmpeg version 5.0.1 Copyright (c) 2000-2022 the FFmpeg developers\n",
      "  built with Apple clang version 13.1.6 (clang-1316.0.21.2.5)\n",
      "  configuration: --prefix=/usr/local/Cellar/ffmpeg/5.0.1_3 --enable-shared --enable-pthreads --enable-version3 --cc=clang --host-cflags= --host-ldflags= --enable-ffplay --enable-gnutls --enable-gpl --enable-libaom --enable-libbluray --enable-libdav1d --enable-libmp3lame --enable-libopus --enable-librav1e --enable-librist --enable-librubberband --enable-libsnappy --enable-libsrt --enable-libtesseract --enable-libtheora --enable-libvidstab --enable-libvmaf --enable-libvorbis --enable-libvpx --enable-libwebp --enable-libx264 --enable-libx265 --enable-libxml2 --enable-libxvid --enable-lzma --enable-libfontconfig --enable-libfreetype --enable-frei0r --enable-libass --enable-libopencore-amrnb --enable-libopencore-amrwb --enable-libopenjpeg --enable-libspeex --enable-libsoxr --enable-libzmq --enable-libzimg --disable-libjack --disable-indev=jack --enable-videotoolbox\n",
      "  libavutil      57. 17.100 / 57. 17.100\n",
      "  libavcodec     59. 18.100 / 59. 18.100\n",
      "  libavformat    59. 16.100 / 59. 16.100\n",
      "  libavdevice    59.  4.100 / 59.  4.100\n",
      "  libavfilter     8. 24.100 /  8. 24.100\n",
      "  libswscale      6.  4.100 /  6.  4.100\n",
      "  libswresample   4.  3.100 /  4.  3.100\n",
      "  libpostproc    56.  3.100 / 56.  3.100\n",
      "[rawvideo @ 0x7fb126f05a00] Estimating duration from bitrate, this may be inaccurate\n",
      "Input #0, rawvideo, from 'camera_44.yuv':\n",
      "  Duration: 00:00:30.00, start: 0.000000, bitrate: 1327104 kb/s\n",
      "  Stream #0:0: Video: rawvideo (I420 / 0x30323449), yuv420p, 5120x720, 1327104 kb/s, 30 tbr, 30 tbn\n",
      "Input #1, mov,mp4,m4a,3gp,3g2,mj2, from 'camera44.mp4':\n",
      "  Metadata:\n",
      "    major_brand     : isom\n",
      "    minor_version   : 512\n",
      "    compatible_brands: isomiso2avc1mp41\n",
      "    encoder         : Lavf59.16.100\n",
      "  Duration: 00:00:36.00, start: 0.000000, bitrate: 4012 kb/s\n",
      "  Stream #1:0[0x1](und): Video: h264 (High) (avc1 / 0x31637661), yuv420p(progressive), 5120x720, 4010 kb/s, 25 fps, 25 tbr, 12800 tbn (default)\n",
      "    Metadata:\n",
      "      handler_name    : VideoHandler\n",
      "      vendor_id       : [0][0][0][0]\n",
      "Stream mapping:\n",
      "  Stream #0:0 (rawvideo) -> ssim\n",
      "  Stream #0:0 (rawvideo) -> psnr\n",
      "  Stream #1:0 (h264) -> ssim\n",
      "  Stream #1:0 (h264) -> psnr\n",
      "  ssim:default -> Stream #0:0 (wrapped_avframe)\n",
      "  psnr:default -> Stream #0:1 (wrapped_avframe)\n",
      "Press [q] to stop, [?] for help\n",
      "[Parsed_ssim_0 @ 0x7fb106f04f00] not matching timebases found between first input: 1/30 and second input 1/12800, results may be incorrect!\n",
      "[Parsed_psnr_1 @ 0x7fb106f0c600] not matching timebases found between first input: 1/30 and second input 1/12800, results may be incorrect!\n",
      "Output #0, null, to 'pipe:':\n",
      "  Metadata:\n",
      "    encoder         : Lavf59.16.100\n",
      "  Stream #0:0: Video: wrapped_avframe, yuv420p(progressive), 5120x720, q=2-31, 200 kb/s, 30 fps, 30 tbn (default)\n",
      "    Metadata:\n",
      "      encoder         : Lavc59.18.100 wrapped_avframe\n",
      "  Stream #0:1: Video: wrapped_avframe, yuv420p(progressive), 5120x720, q=2-31, 200 kb/s, 30 fps, 30 tbn\n",
      "    Metadata:\n",
      "      encoder         : Lavc59.18.100 wrapped_avframe\n",
      "frame= 1050 fps=630 q=-0.0 Lq=-0.0 size=N/A time=00:00:36.00 bitrate=N/A speed=21.6x    \n",
      "video:919kB audio:0kB subtitle:0kB other streams:0kB global headers:0kB muxing overhead: unknown\n",
      "[Parsed_ssim_0 @ 0x7fb106f04f00] SSIM Y:0.891758 (9.656059) U:0.971395 (15.435656) V:0.969619 (15.173917) All:0.918008 (10.862283)\n",
      "[Parsed_psnr_1 @ 0x7fb106f0c600] PSNR y:20.717448 u:38.135461 v:35.125745 average:22.419737 min:19.400916 max:45.013443\n"
     ]
    },
    {
     "data": {
      "text/plain": [
       "0"
      ]
     },
     "execution_count": 11,
     "metadata": {},
     "output_type": "execute_result"
    }
   ],
   "source": [
    "os.system('ffmpeg -f rawvideo -pix_fmt yuv420p -s:v 5120x720 -r 30 -i camera_44.yuv -i camera44.mp4 -lavfi \\\"ssim=log/ssim_camera44.log;[0:v][1:v]psnr=log/psnr_camera44.log\\\" -f null -')"
   ]
  },
  {
   "cell_type": "code",
   "execution_count": 14,
   "id": "b1059a5f",
   "metadata": {},
   "outputs": [
    {
     "data": {
      "text/plain": [
       "0.9125000000000001"
      ]
     },
     "execution_count": 14,
     "metadata": {},
     "output_type": "execute_result"
    }
   ],
   "source": [
    "(0.94+0.91+0.91+0.89)/4"
   ]
  },
  {
   "cell_type": "code",
   "execution_count": 13,
   "id": "556ec5ab",
   "metadata": {},
   "outputs": [
    {
     "data": {
      "text/plain": [
       "22.9225"
      ]
     },
     "execution_count": 13,
     "metadata": {},
     "output_type": "execute_result"
    }
   ],
   "source": [
    "(22.23+23.82+20.05+25.59)/4"
   ]
  },
  {
   "cell_type": "code",
   "execution_count": null,
   "id": "ae197259",
   "metadata": {},
   "outputs": [],
   "source": []
  }
 ],
 "metadata": {
  "kernelspec": {
   "display_name": "Python 3 (ipykernel)",
   "language": "python",
   "name": "python3"
  },
  "language_info": {
   "codemirror_mode": {
    "name": "ipython",
    "version": 3
   },
   "file_extension": ".py",
   "mimetype": "text/x-python",
   "name": "python",
   "nbconvert_exporter": "python",
   "pygments_lexer": "ipython3",
   "version": "3.9.13"
  }
 },
 "nbformat": 4,
 "nbformat_minor": 5
}
